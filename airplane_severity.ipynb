{
 "cells": [
  {
   "cell_type": "markdown",
   "metadata": {},
   "source": [
    "##  \"Machine learning model for Airplane accident severity predicition\""
   ]
  },
  {
   "cell_type": "markdown",
   "metadata": {},
   "source": [
    "### Importing all required libraries"
   ]
  },
  {
   "cell_type": "code",
   "execution_count": 30,
   "metadata": {},
   "outputs": [],
   "source": [
    "import pandas as pd\n",
    "import numpy as np\n",
    "import matplotlib.pyplot as plt\n",
    "from sklearn.model_selection import train_test_split\n",
    "from sklearn.model_selection import GridSearchCV\n",
    "from sklearn.metrics import confusion_matrix\n",
    "import seaborn as sns\n",
    "sns.set(style=\"whitegrid\")\n",
    "from sklearn import metrics\n",
    "from sklearn.linear_model import LogisticRegression\n",
    "from sklearn.ensemble import RandomForestClassifier\n",
    "from sklearn.dummy import DummyClassifier\n",
    "from sklearn.svm import SVC\n",
    "from xgboost import XGBClassifier\n",
    "\n",
    "#import warnings filter\n",
    "from warnings import simplefilter\n",
    "# ignore all future warnings\n",
    "simplefilter(action='ignore', category=FutureWarning)"
   ]
  },
  {
   "cell_type": "code",
   "execution_count": 2,
   "metadata": {},
   "outputs": [],
   "source": [
    "#importing the dataset\n",
    "dataset = pd.read_csv('AirplaneAccident.csv')"
   ]
  },
  {
   "cell_type": "code",
   "execution_count": 3,
   "metadata": {},
   "outputs": [
    {
     "data": {
      "text/html": [
       "<div>\n",
       "<style scoped>\n",
       "    .dataframe tbody tr th:only-of-type {\n",
       "        vertical-align: middle;\n",
       "    }\n",
       "\n",
       "    .dataframe tbody tr th {\n",
       "        vertical-align: top;\n",
       "    }\n",
       "\n",
       "    .dataframe thead th {\n",
       "        text-align: right;\n",
       "    }\n",
       "</style>\n",
       "<table border=\"1\" class=\"dataframe\">\n",
       "  <thead>\n",
       "    <tr style=\"text-align: right;\">\n",
       "      <th></th>\n",
       "      <th>Severity</th>\n",
       "      <th>Safety_Score</th>\n",
       "      <th>Days_Since_Inspection</th>\n",
       "      <th>Total_Safety_Complaints</th>\n",
       "      <th>Control_Metric</th>\n",
       "      <th>Turbulence_In_gforces</th>\n",
       "      <th>Cabin_Temperature</th>\n",
       "      <th>Accident_Type_Code</th>\n",
       "      <th>Max_Elevation</th>\n",
       "      <th>Violations</th>\n",
       "      <th>Adverse_Weather_Metric</th>\n",
       "      <th>Accident_ID</th>\n",
       "    </tr>\n",
       "  </thead>\n",
       "  <tbody>\n",
       "    <tr>\n",
       "      <td>0</td>\n",
       "      <td>Minor_Damage_And_Injuries</td>\n",
       "      <td>49.223744</td>\n",
       "      <td>14</td>\n",
       "      <td>22</td>\n",
       "      <td>71.285324</td>\n",
       "      <td>0.272118</td>\n",
       "      <td>78.04</td>\n",
       "      <td>2</td>\n",
       "      <td>31335.47682</td>\n",
       "      <td>3</td>\n",
       "      <td>0.424352</td>\n",
       "      <td>7570</td>\n",
       "    </tr>\n",
       "    <tr>\n",
       "      <td>1</td>\n",
       "      <td>Minor_Damage_And_Injuries</td>\n",
       "      <td>62.465753</td>\n",
       "      <td>10</td>\n",
       "      <td>27</td>\n",
       "      <td>72.288058</td>\n",
       "      <td>0.423939</td>\n",
       "      <td>84.54</td>\n",
       "      <td>2</td>\n",
       "      <td>26024.71106</td>\n",
       "      <td>2</td>\n",
       "      <td>0.352350</td>\n",
       "      <td>12128</td>\n",
       "    </tr>\n",
       "    <tr>\n",
       "      <td>2</td>\n",
       "      <td>Significant_Damage_And_Fatalities</td>\n",
       "      <td>63.059361</td>\n",
       "      <td>13</td>\n",
       "      <td>16</td>\n",
       "      <td>66.362808</td>\n",
       "      <td>0.322604</td>\n",
       "      <td>78.86</td>\n",
       "      <td>7</td>\n",
       "      <td>39269.05393</td>\n",
       "      <td>3</td>\n",
       "      <td>0.003364</td>\n",
       "      <td>2181</td>\n",
       "    </tr>\n",
       "    <tr>\n",
       "      <td>3</td>\n",
       "      <td>Significant_Damage_And_Serious_Injuries</td>\n",
       "      <td>48.082192</td>\n",
       "      <td>11</td>\n",
       "      <td>9</td>\n",
       "      <td>74.703737</td>\n",
       "      <td>0.337029</td>\n",
       "      <td>81.79</td>\n",
       "      <td>3</td>\n",
       "      <td>42771.49920</td>\n",
       "      <td>1</td>\n",
       "      <td>0.211728</td>\n",
       "      <td>5946</td>\n",
       "    </tr>\n",
       "    <tr>\n",
       "      <td>4</td>\n",
       "      <td>Significant_Damage_And_Fatalities</td>\n",
       "      <td>26.484018</td>\n",
       "      <td>13</td>\n",
       "      <td>25</td>\n",
       "      <td>47.948952</td>\n",
       "      <td>0.541140</td>\n",
       "      <td>77.16</td>\n",
       "      <td>3</td>\n",
       "      <td>35509.22852</td>\n",
       "      <td>2</td>\n",
       "      <td>0.176883</td>\n",
       "      <td>9054</td>\n",
       "    </tr>\n",
       "  </tbody>\n",
       "</table>\n",
       "</div>"
      ],
      "text/plain": [
       "                                  Severity  Safety_Score  \\\n",
       "0                Minor_Damage_And_Injuries     49.223744   \n",
       "1                Minor_Damage_And_Injuries     62.465753   \n",
       "2        Significant_Damage_And_Fatalities     63.059361   \n",
       "3  Significant_Damage_And_Serious_Injuries     48.082192   \n",
       "4        Significant_Damage_And_Fatalities     26.484018   \n",
       "\n",
       "   Days_Since_Inspection  Total_Safety_Complaints  Control_Metric  \\\n",
       "0                     14                       22       71.285324   \n",
       "1                     10                       27       72.288058   \n",
       "2                     13                       16       66.362808   \n",
       "3                     11                        9       74.703737   \n",
       "4                     13                       25       47.948952   \n",
       "\n",
       "   Turbulence_In_gforces  Cabin_Temperature  Accident_Type_Code  \\\n",
       "0               0.272118              78.04                   2   \n",
       "1               0.423939              84.54                   2   \n",
       "2               0.322604              78.86                   7   \n",
       "3               0.337029              81.79                   3   \n",
       "4               0.541140              77.16                   3   \n",
       "\n",
       "   Max_Elevation  Violations  Adverse_Weather_Metric  Accident_ID  \n",
       "0    31335.47682           3                0.424352         7570  \n",
       "1    26024.71106           2                0.352350        12128  \n",
       "2    39269.05393           3                0.003364         2181  \n",
       "3    42771.49920           1                0.211728         5946  \n",
       "4    35509.22852           2                0.176883         9054  "
      ]
     },
     "execution_count": 3,
     "metadata": {},
     "output_type": "execute_result"
    }
   ],
   "source": [
    "#getting an intuition of the data\n",
    "dataset.head()"
   ]
  },
  {
   "cell_type": "markdown",
   "metadata": {},
   "source": [
    "### Splitting the data into training set and test set"
   ]
  },
  {
   "cell_type": "code",
   "execution_count": 4,
   "metadata": {},
   "outputs": [],
   "source": [
    "y = dataset['Severity']\n",
    "x = dataset.drop(['Severity','Accident_ID'],axis=1)\n",
    "x_train, x_test, y_train, y_test = train_test_split(x, y, test_size=0.20, random_state=0)"
   ]
  },
  {
   "cell_type": "markdown",
   "metadata": {},
   "source": [
    "### Check for any missing data"
   ]
  },
  {
   "cell_type": "code",
   "execution_count": 5,
   "metadata": {},
   "outputs": [
    {
     "name": "stdout",
     "output_type": "stream",
     "text": [
      "<class 'pandas.core.frame.DataFrame'>\n",
      "RangeIndex: 10000 entries, 0 to 9999\n",
      "Data columns (total 12 columns):\n",
      "Severity                   10000 non-null object\n",
      "Safety_Score               10000 non-null float64\n",
      "Days_Since_Inspection      10000 non-null int64\n",
      "Total_Safety_Complaints    10000 non-null int64\n",
      "Control_Metric             10000 non-null float64\n",
      "Turbulence_In_gforces      10000 non-null float64\n",
      "Cabin_Temperature          10000 non-null float64\n",
      "Accident_Type_Code         10000 non-null int64\n",
      "Max_Elevation              10000 non-null float64\n",
      "Violations                 10000 non-null int64\n",
      "Adverse_Weather_Metric     10000 non-null float64\n",
      "Accident_ID                10000 non-null int64\n",
      "dtypes: float64(6), int64(5), object(1)\n",
      "memory usage: 937.6+ KB\n"
     ]
    }
   ],
   "source": [
    "dataset.info()"
   ]
  },
  {
   "cell_type": "code",
   "execution_count": 6,
   "metadata": {},
   "outputs": [
    {
     "data": {
      "text/html": [
       "<div>\n",
       "<style scoped>\n",
       "    .dataframe tbody tr th:only-of-type {\n",
       "        vertical-align: middle;\n",
       "    }\n",
       "\n",
       "    .dataframe tbody tr th {\n",
       "        vertical-align: top;\n",
       "    }\n",
       "\n",
       "    .dataframe thead th {\n",
       "        text-align: right;\n",
       "    }\n",
       "</style>\n",
       "<table border=\"1\" class=\"dataframe\">\n",
       "  <thead>\n",
       "    <tr style=\"text-align: right;\">\n",
       "      <th></th>\n",
       "      <th>count</th>\n",
       "      <th>mean</th>\n",
       "      <th>std</th>\n",
       "      <th>min</th>\n",
       "      <th>25%</th>\n",
       "      <th>50%</th>\n",
       "      <th>75%</th>\n",
       "      <th>max</th>\n",
       "    </tr>\n",
       "  </thead>\n",
       "  <tbody>\n",
       "    <tr>\n",
       "      <td>Safety_Score</td>\n",
       "      <td>10000.0</td>\n",
       "      <td>41.876406</td>\n",
       "      <td>16.138072</td>\n",
       "      <td>0.000000</td>\n",
       "      <td>30.593607</td>\n",
       "      <td>41.278539</td>\n",
       "      <td>52.511416</td>\n",
       "      <td>100.000000</td>\n",
       "    </tr>\n",
       "    <tr>\n",
       "      <td>Days_Since_Inspection</td>\n",
       "      <td>10000.0</td>\n",
       "      <td>12.931100</td>\n",
       "      <td>3.539803</td>\n",
       "      <td>1.000000</td>\n",
       "      <td>11.000000</td>\n",
       "      <td>13.000000</td>\n",
       "      <td>15.000000</td>\n",
       "      <td>23.000000</td>\n",
       "    </tr>\n",
       "    <tr>\n",
       "      <td>Total_Safety_Complaints</td>\n",
       "      <td>10000.0</td>\n",
       "      <td>6.564300</td>\n",
       "      <td>6.971982</td>\n",
       "      <td>0.000000</td>\n",
       "      <td>2.000000</td>\n",
       "      <td>4.000000</td>\n",
       "      <td>9.000000</td>\n",
       "      <td>54.000000</td>\n",
       "    </tr>\n",
       "    <tr>\n",
       "      <td>Control_Metric</td>\n",
       "      <td>10000.0</td>\n",
       "      <td>65.145324</td>\n",
       "      <td>11.882934</td>\n",
       "      <td>0.000000</td>\n",
       "      <td>56.927985</td>\n",
       "      <td>65.587967</td>\n",
       "      <td>73.336372</td>\n",
       "      <td>100.000000</td>\n",
       "    </tr>\n",
       "    <tr>\n",
       "      <td>Turbulence_In_gforces</td>\n",
       "      <td>10000.0</td>\n",
       "      <td>0.381495</td>\n",
       "      <td>0.121301</td>\n",
       "      <td>0.134000</td>\n",
       "      <td>0.293665</td>\n",
       "      <td>0.365879</td>\n",
       "      <td>0.451346</td>\n",
       "      <td>0.882648</td>\n",
       "    </tr>\n",
       "    <tr>\n",
       "      <td>Cabin_Temperature</td>\n",
       "      <td>10000.0</td>\n",
       "      <td>79.969331</td>\n",
       "      <td>2.759739</td>\n",
       "      <td>74.740000</td>\n",
       "      <td>77.960000</td>\n",
       "      <td>79.540000</td>\n",
       "      <td>81.560000</td>\n",
       "      <td>97.510000</td>\n",
       "    </tr>\n",
       "    <tr>\n",
       "      <td>Accident_Type_Code</td>\n",
       "      <td>10000.0</td>\n",
       "      <td>3.814900</td>\n",
       "      <td>1.902577</td>\n",
       "      <td>1.000000</td>\n",
       "      <td>2.000000</td>\n",
       "      <td>4.000000</td>\n",
       "      <td>5.000000</td>\n",
       "      <td>7.000000</td>\n",
       "    </tr>\n",
       "    <tr>\n",
       "      <td>Max_Elevation</td>\n",
       "      <td>10000.0</td>\n",
       "      <td>32001.803282</td>\n",
       "      <td>9431.995196</td>\n",
       "      <td>831.695553</td>\n",
       "      <td>25757.636910</td>\n",
       "      <td>32060.336420</td>\n",
       "      <td>38380.641515</td>\n",
       "      <td>64297.651220</td>\n",
       "    </tr>\n",
       "    <tr>\n",
       "      <td>Violations</td>\n",
       "      <td>10000.0</td>\n",
       "      <td>2.012200</td>\n",
       "      <td>1.039980</td>\n",
       "      <td>0.000000</td>\n",
       "      <td>1.000000</td>\n",
       "      <td>2.000000</td>\n",
       "      <td>3.000000</td>\n",
       "      <td>5.000000</td>\n",
       "    </tr>\n",
       "    <tr>\n",
       "      <td>Adverse_Weather_Metric</td>\n",
       "      <td>10000.0</td>\n",
       "      <td>0.255635</td>\n",
       "      <td>0.381128</td>\n",
       "      <td>0.000316</td>\n",
       "      <td>0.012063</td>\n",
       "      <td>0.074467</td>\n",
       "      <td>0.354059</td>\n",
       "      <td>2.365378</td>\n",
       "    </tr>\n",
       "    <tr>\n",
       "      <td>Accident_ID</td>\n",
       "      <td>10000.0</td>\n",
       "      <td>6266.554200</td>\n",
       "      <td>3610.170288</td>\n",
       "      <td>2.000000</td>\n",
       "      <td>3139.750000</td>\n",
       "      <td>6280.500000</td>\n",
       "      <td>9391.500000</td>\n",
       "      <td>12500.000000</td>\n",
       "    </tr>\n",
       "  </tbody>\n",
       "</table>\n",
       "</div>"
      ],
      "text/plain": [
       "                           count          mean          std         min  \\\n",
       "Safety_Score             10000.0     41.876406    16.138072    0.000000   \n",
       "Days_Since_Inspection    10000.0     12.931100     3.539803    1.000000   \n",
       "Total_Safety_Complaints  10000.0      6.564300     6.971982    0.000000   \n",
       "Control_Metric           10000.0     65.145324    11.882934    0.000000   \n",
       "Turbulence_In_gforces    10000.0      0.381495     0.121301    0.134000   \n",
       "Cabin_Temperature        10000.0     79.969331     2.759739   74.740000   \n",
       "Accident_Type_Code       10000.0      3.814900     1.902577    1.000000   \n",
       "Max_Elevation            10000.0  32001.803282  9431.995196  831.695553   \n",
       "Violations               10000.0      2.012200     1.039980    0.000000   \n",
       "Adverse_Weather_Metric   10000.0      0.255635     0.381128    0.000316   \n",
       "Accident_ID              10000.0   6266.554200  3610.170288    2.000000   \n",
       "\n",
       "                                  25%           50%           75%  \\\n",
       "Safety_Score                30.593607     41.278539     52.511416   \n",
       "Days_Since_Inspection       11.000000     13.000000     15.000000   \n",
       "Total_Safety_Complaints      2.000000      4.000000      9.000000   \n",
       "Control_Metric              56.927985     65.587967     73.336372   \n",
       "Turbulence_In_gforces        0.293665      0.365879      0.451346   \n",
       "Cabin_Temperature           77.960000     79.540000     81.560000   \n",
       "Accident_Type_Code           2.000000      4.000000      5.000000   \n",
       "Max_Elevation            25757.636910  32060.336420  38380.641515   \n",
       "Violations                   1.000000      2.000000      3.000000   \n",
       "Adverse_Weather_Metric       0.012063      0.074467      0.354059   \n",
       "Accident_ID               3139.750000   6280.500000   9391.500000   \n",
       "\n",
       "                                  max  \n",
       "Safety_Score               100.000000  \n",
       "Days_Since_Inspection       23.000000  \n",
       "Total_Safety_Complaints     54.000000  \n",
       "Control_Metric             100.000000  \n",
       "Turbulence_In_gforces        0.882648  \n",
       "Cabin_Temperature           97.510000  \n",
       "Accident_Type_Code           7.000000  \n",
       "Max_Elevation            64297.651220  \n",
       "Violations                   5.000000  \n",
       "Adverse_Weather_Metric       2.365378  \n",
       "Accident_ID              12500.000000  "
      ]
     },
     "execution_count": 6,
     "metadata": {},
     "output_type": "execute_result"
    }
   ],
   "source": [
    "dataset.describe().T"
   ]
  },
  {
   "cell_type": "markdown",
   "metadata": {},
   "source": [
    "### Visualizing the data distribution"
   ]
  },
  {
   "cell_type": "code",
   "execution_count": 7,
   "metadata": {},
   "outputs": [
    {
     "name": "stdout",
     "output_type": "stream",
     "text": [
      "Points with class label -> 'Highly fatal and damaging' are =  30.490000000000002 %\n",
      "Points with class label -> 'Significant damage and serious injuries' are =  27.29 %\n",
      "Points with class label -> 'Minor damage and injuries' are =  25.27 %\n",
      "Points with class label -> 'Significant damage and fatalities' are =  16.950000000000003 %\n"
     ]
    },
    {
     "data": {
      "text/plain": [
       "([<matplotlib.patches.Wedge at 0x2b50a31e848>,\n",
       "  <matplotlib.patches.Wedge at 0x2b50a32e4c8>,\n",
       "  <matplotlib.patches.Wedge at 0x2b50a338148>,\n",
       "  <matplotlib.patches.Wedge at 0x2b50a338e48>],\n",
       " [Text(0.6327885049635631, 0.8997659184398901, 'Highly fatal and damaging'),\n",
       "  Text(-1.0261520927877268, 0.39624724916063275, 'Significant damage and serious injuries'),\n",
       "  Text(-0.31252728464569235, -1.0546689984786652, 'Minor damage and injuries'),\n",
       "  Text(0.9476946595353, -0.5584575474360357, 'Significant damage and fatalities')],\n",
       " [Text(0.34515736634376165, 0.4907814100581218, '30.5%'),\n",
       "  Text(-0.5597193233387601, 0.21613486317852693, '27.3%'),\n",
       "  Text(-0.17046942798855946, -0.575273999170181, '25.3%'),\n",
       "  Text(0.5169243597465272, -0.30461320769238304, '17.0%')])"
      ]
     },
     "execution_count": 7,
     "metadata": {},
     "output_type": "execute_result"
    },
    {
     "data": {
      "image/png": "[encoded data removed]",
      "text/plain": [
       "<Figure size 576x720 with 1 Axes>"
      ]
     },
     "metadata": {},
     "output_type": "display_data"
    }
   ],
   "source": [
    "class_label = dataset['Severity'].value_counts()\n",
    "total_points = len(dataset)\n",
    "print(\"Points with class label -> 'Highly fatal and damaging' are = \",class_label.values[0]/total_points*\n",
    "100,\"%\")\n",
    "print(\"Points with class label -> 'Significant damage and serious injuries' are = \",class_label.values[1]/total_points*\n",
    "100,\"%\")\n",
    "print(\"Points with class label -> 'Minor damage and injuries' are = \",class_label.values[2]/total_points*\n",
    "100,\"%\")\n",
    "print(\"Points with class label -> 'Significant damage and fatalities' are = \",class_label.values[3]/total_points*\n",
    "100,\"%\")\n",
    "labels = ['Highly fatal and damaging','Significant damage and serious injuries','Minor damage and injuries','Significant damage and fatalities']\n",
    "sizes = [30.490000000000002,27.29,25.27,16.950000000000003]\n",
    "colors = ['yellowgreen', 'gold','orange','green']\n",
    "plt.figure(figsize=(8,10))\n",
    "plt.pie(sizes, labels=labels, colors=colors,autopct='%1.1f%%', shadow=True)"
   ]
  },
  {
   "cell_type": "markdown",
   "metadata": {},
   "source": [
    "### 1. Training a random model and using it as a baseline\n",
    "\n",
    "#### 1.1 Training a dummy classifier"
   ]
  },
  {
   "cell_type": "code",
   "execution_count": 8,
   "metadata": {},
   "outputs": [
    {
     "data": {
      "text/plain": [
       "DummyClassifier(constant=None, random_state=None, strategy='uniform')"
      ]
     },
     "execution_count": 8,
     "metadata": {},
     "output_type": "execute_result"
    }
   ],
   "source": [
    "dummy_clf = DummyClassifier(strategy=\"uniform\") # uniform means that the model randomly assigns a class label given a quiery point.\n",
    "dummy_clf.fit(x_train, y_train)"
   ]
  },
  {
   "cell_type": "markdown",
   "metadata": {},
   "source": [
    "#### 1.2 Evaluating performance of random model using log loss"
   ]
  },
  {
   "cell_type": "code",
   "execution_count": 9,
   "metadata": {},
   "outputs": [
    {
     "name": "stdout",
     "output_type": "stream",
     "text": [
      "Log loss of random model on 'Training data' =  1.3862943611198908\n",
      "Log loss of random model on 'Testing data' =  1.3862943611198908\n"
     ]
    }
   ],
   "source": [
    "print(\"Log loss of random model on 'Training data' = \",metrics.log_loss(y_train,dummy_clf.predict_proba(x_train),labels=class_label.index))\n",
    "\n",
    "print(\"Log loss of random model on 'Testing data' = \",metrics.log_loss(y_test,dummy_clf.predict_proba(x_test),labels=class_label.index))"
   ]
  },
  {
   "cell_type": "markdown",
   "metadata": {},
   "source": [
    "As the model that predicted class label randomly(random model). Any model should perform better than this i.e the log loss of the model should be less than the log loss of the random model."
   ]
  },
  {
   "cell_type": "markdown",
   "metadata": {},
   "source": [
    "### 2. Univarite analysis\n",
    "\n",
    "Training a model(eg: Logistic Regression) with a single feature and analyzing whether the feature is important or not!."
   ]
  },
  {
   "cell_type": "code",
   "execution_count": 10,
   "metadata": {},
   "outputs": [],
   "source": [
    "lg = LogisticRegression(solver='lbfgs',multi_class='auto')\n",
    "params = {'C':[0.0001,0.001,0.01,0.1,10,100,1000]}\n",
    "gs = GridSearchCV(lg,param_grid=params,scoring='neg_log_loss')"
   ]
  },
  {
   "cell_type": "markdown",
   "metadata": {},
   "source": [
    "### 2.1 Analyzing the importance of 'safety score' feature\n",
    "\n",
    "We need to find out the best hyperparameters to use"
   ]
  },
  {
   "cell_type": "code",
   "execution_count": 11,
   "metadata": {},
   "outputs": [
    {
     "data": {
      "text/plain": [
       "{'C': 0.001}"
      ]
     },
     "execution_count": 11,
     "metadata": {},
     "output_type": "execute_result"
    }
   ],
   "source": [
    "gs.fit(x_train['Safety_Score'].values.reshape(-1,1),y_train)\n",
    "gs.best_params_"
   ]
  },
  {
   "cell_type": "markdown",
   "metadata": {},
   "source": [
    "Training the Logistic regression classifier with best hyper parameters"
   ]
  },
  {
   "cell_type": "code",
   "execution_count": 12,
   "metadata": {},
   "outputs": [
    {
     "name": "stdout",
     "output_type": "stream",
     "text": [
      "log loss on train =  1.2917655685304592\n",
      "log loss on test =  1.2826850159443983\n"
     ]
    }
   ],
   "source": [
    "lg = LogisticRegression(C=0.001,solver='lbfgs',multi_class='auto')\n",
    "lg.fit(x_train['Safety_Score'].values.reshape(-1,1),y_train)\n",
    "print(\"log loss on train = \",metrics.log_loss(y_train,lg.predict_proba(x_train['Safety_Score'].values.reshape(-1,1))))\n",
    "print(\"log loss on test = \",metrics.log_loss(y_test,lg.predict_proba(x_test['Safety_Score'].values.reshape(-1,1))))"
   ]
  },
  {
   "cell_type": "markdown",
   "metadata": {},
   "source": [
    "### 2.2 Analyzing the importance of ' Total safety complaints' feature\n",
    "\n",
    "Finding best hyperparameters to use."
   ]
  },
  {
   "cell_type": "code",
   "execution_count": 13,
   "metadata": {},
   "outputs": [
    {
     "data": {
      "text/plain": [
       "{'C': 0.0001}"
      ]
     },
     "execution_count": 13,
     "metadata": {},
     "output_type": "execute_result"
    }
   ],
   "source": [
    "gs.fit(x_train['Total_Safety_Complaints'].values.reshape(-1,1),y_train)\n",
    "gs.best_params_"
   ]
  },
  {
   "cell_type": "markdown",
   "metadata": {},
   "source": [
    "Training the Logistic regression classifier with best hyper parameters"
   ]
  },
  {
   "cell_type": "code",
   "execution_count": 14,
   "metadata": {},
   "outputs": [
    {
     "name": "stdout",
     "output_type": "stream",
     "text": [
      "log loss on train =  1.3663776532350884\n",
      "log loss on test =  1.358053007926296\n"
     ]
    }
   ],
   "source": [
    "lg = LogisticRegression(C=0.0001,solver='lbfgs',multi_class='auto')\n",
    "lg.fit(x_train['Total_Safety_Complaints'].values.reshape(-1,1),y_train)\n",
    "print(\"log loss on train = \",metrics.log_loss(y_train,lg.predict_proba(x_train['Total_Safety_Complaints'].values.reshape(-1,1))))\n",
    "print(\"log loss on test = \",metrics.log_loss(y_test,lg.predict_proba(x_test['Total_Safety_Complaints'].values.reshape(-1,1))))"
   ]
  },
  {
   "cell_type": "markdown",
   "metadata": {},
   "source": [
    "### 2.3 Analyzing the importance of ' Control metric ' feature\n",
    "\n",
    "Finding best hyperparameters to use."
   ]
  },
  {
   "cell_type": "code",
   "execution_count": 15,
   "metadata": {},
   "outputs": [
    {
     "data": {
      "text/plain": [
       "{'C': 0.001}"
      ]
     },
     "execution_count": 15,
     "metadata": {},
     "output_type": "execute_result"
    }
   ],
   "source": [
    "gs.fit(x_train['Control_Metric'].values.reshape(-1,1),y_train)\n",
    "gs.best_params_"
   ]
  },
  {
   "cell_type": "markdown",
   "metadata": {},
   "source": [
    "Training the Logistic regression classifier with best hyper parameters"
   ]
  },
  {
   "cell_type": "code",
   "execution_count": 16,
   "metadata": {},
   "outputs": [
    {
     "name": "stdout",
     "output_type": "stream",
     "text": [
      "log loss on train =  1.3427547818526062\n",
      "log loss on test =  1.3356987029702692\n"
     ]
    }
   ],
   "source": [
    "lg = LogisticRegression(C=0.001,solver='lbfgs',multi_class='auto')\n",
    "lg.fit(x_train['Control_Metric'].values.reshape(-1,1),y_train)\n",
    "print(\"log loss on train = \",metrics.log_loss(y_train,lg.predict_proba(x_train['Control_Metric'].values.reshape(-1,1))))\n",
    "print(\"log loss on test = \",metrics.log_loss(y_test,lg.predict_proba(x_test['Control_Metric'].values.reshape(-1,1))))"
   ]
  },
  {
   "cell_type": "markdown",
   "metadata": {},
   "source": [
    "### 2.4 Analyzing the importance of ' Turbulence in gforces ' feature\n",
    "\n",
    "Finding best hyperparameters to use."
   ]
  },
  {
   "cell_type": "code",
   "execution_count": 17,
   "metadata": {},
   "outputs": [
    {
     "data": {
      "text/plain": [
       "{'C': 10}"
      ]
     },
     "execution_count": 17,
     "metadata": {},
     "output_type": "execute_result"
    }
   ],
   "source": [
    "gs.fit(x_train['Turbulence_In_gforces'].values.reshape(-1,1),y_train)\n",
    "gs.best_params_"
   ]
  },
  {
   "cell_type": "markdown",
   "metadata": {},
   "source": [
    "Training the Logistic regression classifier with best hyper parameters"
   ]
  },
  {
   "cell_type": "code",
   "execution_count": 18,
   "metadata": {},
   "outputs": [
    {
     "name": "stdout",
     "output_type": "stream",
     "text": [
      "log loss on train =  1.3663537912019346\n",
      "log loss on test =  1.3577886447663294\n"
     ]
    }
   ],
   "source": [
    "lg.fit(x_train['Turbulence_In_gforces'].values.reshape(-1,1),y_train)\n",
    "print(\"log loss on train = \",metrics.log_loss(y_train,lg.predict_proba(x_train['Turbulence_In_gforces'].values.reshape(-1,1))))\n",
    "print(\"log loss on test = \",metrics.log_loss(y_test,lg.predict_proba(x_test['Turbulence_In_gforces'].values.reshape(-1,1))))"
   ]
  },
  {
   "cell_type": "markdown",
   "metadata": {},
   "source": [
    "### 2.5 Analyzing the importance of 'Cabin Temperature' feature\n",
    "\n",
    "Finding best hyperparameters to use."
   ]
  },
  {
   "cell_type": "code",
   "execution_count": 19,
   "metadata": {},
   "outputs": [
    {
     "data": {
      "text/plain": [
       "{'C': 0.01}"
      ]
     },
     "execution_count": 19,
     "metadata": {},
     "output_type": "execute_result"
    }
   ],
   "source": [
    "gs.fit(x_train['Cabin_Temperature'].values.reshape(-1,1),y_train)\n",
    "gs.best_params_"
   ]
  },
  {
   "cell_type": "markdown",
   "metadata": {},
   "source": [
    "Training the Logistic regression classifier with best hyper parameters"
   ]
  },
  {
   "cell_type": "code",
   "execution_count": 20,
   "metadata": {},
   "outputs": [
    {
     "name": "stdout",
     "output_type": "stream",
     "text": [
      "log loss on train =  1.3668765643531684\n",
      "log loss on test =  1.358118529681163\n"
     ]
    }
   ],
   "source": [
    "lg = LogisticRegression(C=0.01,solver='lbfgs',multi_class='auto')\n",
    "lg.fit(x_train['Cabin_Temperature'].values.reshape(-1,1),y_train)\n",
    "print(\"log loss on train = \",metrics.log_loss(y_train,lg.predict_proba(x_train['Cabin_Temperature'].values.reshape(-1,1))))\n",
    "print(\"log loss on test = \",metrics.log_loss(y_test,lg.predict_proba(x_test['Cabin_Temperature'].values.reshape(-1,1))))"
   ]
  },
  {
   "cell_type": "markdown",
   "metadata": {},
   "source": [
    "### 2.6 Analyzing the importance of 'Accident type code' feature\n",
    "\n",
    "Finding best hyperparameters to use."
   ]
  },
  {
   "cell_type": "code",
   "execution_count": 21,
   "metadata": {},
   "outputs": [
    {
     "data": {
      "text/plain": [
       "{'C': 0.01}"
      ]
     },
     "execution_count": 21,
     "metadata": {},
     "output_type": "execute_result"
    }
   ],
   "source": [
    "gs.fit(x_train['Accident_Type_Code'].values.reshape(-1,1),y_train)\n",
    "gs.best_params_"
   ]
  },
  {
   "cell_type": "markdown",
   "metadata": {},
   "source": [
    "Training the Logistic regression classifier with best hyper parameters"
   ]
  },
  {
   "cell_type": "code",
   "execution_count": 22,
   "metadata": {},
   "outputs": [
    {
     "name": "stdout",
     "output_type": "stream",
     "text": [
      "log loss on train =  1.3318448860614638\n",
      "log loss on test =  1.3210911272115684\n"
     ]
    }
   ],
   "source": [
    "lg = LogisticRegression(C=0.01,solver='lbfgs',multi_class='auto')\n",
    "lg.fit(x_train['Accident_Type_Code'].values.reshape(-1,1),y_train)\n",
    "print(\"log loss on train = \",metrics.log_loss(y_train,lg.predict_proba(x_train['Accident_Type_Code'].values.reshape(-1,1))))\n",
    "print(\"log loss on test = \",metrics.log_loss(y_test,lg.predict_proba(x_test['Accident_Type_Code'].values.reshape(-1,1))))"
   ]
  },
  {
   "cell_type": "markdown",
   "metadata": {},
   "source": [
    "### 2.7 Analyzing the importance of ' Max Elevation ' feature\n",
    "\n",
    "Finding best hyperparameters to use."
   ]
  },
  {
   "cell_type": "code",
   "execution_count": 23,
   "metadata": {},
   "outputs": [
    {
     "data": {
      "text/plain": [
       "{'C': 0.0001}"
      ]
     },
     "execution_count": 23,
     "metadata": {},
     "output_type": "execute_result"
    }
   ],
   "source": [
    "gs.fit(x_train['Max_Elevation'].values.reshape(-1,1),y_train)\n",
    "gs.best_params_"
   ]
  },
  {
   "cell_type": "markdown",
   "metadata": {},
   "source": [
    "Training the Logistic regression classifier with best hyper parameters"
   ]
  },
  {
   "cell_type": "code",
   "execution_count": 24,
   "metadata": {},
   "outputs": [
    {
     "name": "stdout",
     "output_type": "stream",
     "text": [
      "log loss on train =  1.3668047964674779\n",
      "log loss on test =  1.3584664516616578\n"
     ]
    }
   ],
   "source": [
    "lg = LogisticRegression(C=0.0001,solver='lbfgs',multi_class='auto')\n",
    "lg.fit(x_train['Max_Elevation'].values.reshape(-1,1),y_train)\n",
    "print(\"log loss on train = \",metrics.log_loss(y_train,lg.predict_proba(x_train['Max_Elevation'].values.reshape(-1,1))))\n",
    "print(\"log loss on test = \",metrics.log_loss(y_test,lg.predict_proba(x_test['Max_Elevation'].values.reshape(-1,1))))"
   ]
  },
  {
   "cell_type": "markdown",
   "metadata": {},
   "source": [
    "### 2.8 Analyzing the importance of ' Violations ' feature\n",
    "Finding best hyperparameters to use."
   ]
  },
  {
   "cell_type": "code",
   "execution_count": 25,
   "metadata": {},
   "outputs": [
    {
     "data": {
      "text/plain": [
       "{'C': 0.01}"
      ]
     },
     "execution_count": 25,
     "metadata": {},
     "output_type": "execute_result"
    }
   ],
   "source": [
    "gs.fit(x_train['Violations'].values.reshape(-1,1),y_train)\n",
    "gs.best_params_"
   ]
  },
  {
   "cell_type": "markdown",
   "metadata": {},
   "source": [
    "Training the Logistic regression classifier with best hyper parameters"
   ]
  },
  {
   "cell_type": "code",
   "execution_count": 26,
   "metadata": {},
   "outputs": [
    {
     "name": "stdout",
     "output_type": "stream",
     "text": [
      "log loss on train =  1.364572275031594\n",
      "log loss on test =  1.3545245508014554\n"
     ]
    }
   ],
   "source": [
    "lg = LogisticRegression(C=0.01,solver='lbfgs',multi_class='auto')\n",
    "lg.fit(x_train['Violations'].values.reshape(-1,1),y_train)\n",
    "print(\"log loss on train = \",metrics.log_loss(y_train,lg.predict_proba(x_train['Violations'].values.reshape(-1,1))))\n",
    "print(\"log loss on test = \",metrics.log_loss(y_test,lg.predict_proba(x_test['Violations'].values.reshape(-1,1))))"
   ]
  },
  {
   "cell_type": "markdown",
   "metadata": {},
   "source": [
    "### 2.9 Analyzing the importance of ' Adverse wather metric ' feature\n",
    "Finding best hyperparameters to use."
   ]
  },
  {
   "cell_type": "code",
   "execution_count": 27,
   "metadata": {},
   "outputs": [
    {
     "data": {
      "text/plain": [
       "{'C': 10}"
      ]
     },
     "execution_count": 27,
     "metadata": {},
     "output_type": "execute_result"
    }
   ],
   "source": [
    "gs.fit(x_train['Adverse_Weather_Metric'].values.reshape(-1,1),y_train)\n",
    "gs.best_params_"
   ]
  },
  {
   "cell_type": "markdown",
   "metadata": {},
   "source": [
    "Training the Logistic regression classifier with best hyper parameters"
   ]
  },
  {
   "cell_type": "code",
   "execution_count": 28,
   "metadata": {},
   "outputs": [
    {
     "name": "stdout",
     "output_type": "stream",
     "text": [
      "log loss on train =  1.3514615584219047\n",
      "log loss on test =  1.3383554796292159\n"
     ]
    }
   ],
   "source": [
    "lg = LogisticRegression(C=10,solver='lbfgs',multi_class='auto')\n",
    "lg.fit(x_train['Adverse_Weather_Metric'].values.reshape(-1,1),y_train)\n",
    "print(\"log loss on train = \",metrics.log_loss(y_train,lg.predict_proba(x_train['Adverse_Weather_Metric'].values.reshape(-1,1))))\n",
    "print(\"log loss on test = \",metrics.log_loss(y_test,lg.predict_proba(x_test['Adverse_Weather_Metric'].values.reshape(-1,1))))"
   ]
  },
  {
   "cell_type": "markdown",
   "metadata": {},
   "source": [
    "### Conclusion\n",
    "\n",
    "Features like 'Security score', 'Control metric', 'Accident type code' could alone reduce the log loss on the class labels. And these three features also had a stability among train,test,cv datasets.(i.e the log loss for these features was less relatively and same for train,test and cv sets.)"
   ]
  },
  {
   "cell_type": "markdown",
   "metadata": {},
   "source": [
    "### Analyzing the correlation matrix of training data"
   ]
  },
  {
   "cell_type": "code",
   "execution_count": 31,
   "metadata": {},
   "outputs": [
    {
     "data": {
      "text/plain": [
       "<matplotlib.axes._subplots.AxesSubplot at 0x2b50a3bee88>"
      ]
     },
     "execution_count": 31,
     "metadata": {},
     "output_type": "execute_result"
    },
    {
     "data": {
      "image/png": "[encoded data removed]",
      "text/plain": [
       "<Figure size 864x720 with 2 Axes>"
      ]
     },
     "metadata": {},
     "output_type": "display_data"
    }
   ],
   "source": [
    "cor = dataset.corr()\n",
    "plt.figure(figsize=(12,10))\n",
    "sns.heatmap(cor,annot=True)"
   ]
  },
  {
   "cell_type": "markdown",
   "metadata": {},
   "source": [
    "<p> <b>From the dark boxes in the above matrix (the point of intersection of 2 parameters we get that: </b></p>\n",
    "<p>Apart from the than turbulence and control metric, there is also a strong negative corelation between Adverse weather metric and accident type code.</p>\n",
    "<p> We cannot simple remove a vaiable, because we don't know which feature drives an optimal result.</p>\n",
    "<p>The same goes for the features safety score and days since inspection.</p>"
   ]
  },
  {
   "cell_type": "markdown",
   "metadata": {},
   "source": [
    "### Adding the 'Total_Problems' feature"
   ]
  },
  {
   "cell_type": "code",
   "execution_count": 32,
   "metadata": {},
   "outputs": [
    {
     "name": "stderr",
     "output_type": "stream",
     "text": [
      "C:\\Users\\apmis\\Anaconda3\\lib\\site-packages\\ipykernel_launcher.py:2: SettingWithCopyWarning: \n",
      "A value is trying to be set on a copy of a slice from a DataFrame.\n",
      "Try using .loc[row_indexer,col_indexer] = value instead\n",
      "\n",
      "See the caveats in the documentation: http://pandas.pydata.org/pandas-docs/stable/user_guide/indexing.html#returning-a-view-versus-a-copy\n",
      "  \n",
      "C:\\Users\\apmis\\Anaconda3\\lib\\site-packages\\ipykernel_launcher.py:5: SettingWithCopyWarning: \n",
      "A value is trying to be set on a copy of a slice from a DataFrame.\n",
      "Try using .loc[row_indexer,col_indexer] = value instead\n",
      "\n",
      "See the caveats in the documentation: http://pandas.pydata.org/pandas-docs/stable/user_guide/indexing.html#returning-a-view-versus-a-copy\n",
      "  \"\"\"\n"
     ]
    }
   ],
   "source": [
    "temp = x_train['Violations'] + x_train['Total_Safety_Complaints']\n",
    "x_train['Total_Problems'] = temp\n",
    "\n",
    "temp = x_test['Violations'] + x_test['Total_Safety_Complaints']\n",
    "x_test['Total_Problems'] = temp"
   ]
  },
  {
   "cell_type": "markdown",
   "metadata": {},
   "source": [
    "### Applying Random Forests"
   ]
  },
  {
   "cell_type": "code",
   "execution_count": 33,
   "metadata": {},
   "outputs": [
    {
     "data": {
      "text/plain": [
       "GridSearchCV(cv='warn', error_score='raise-deprecating',\n",
       "             estimator=RandomForestClassifier(bootstrap=True, class_weight=None,\n",
       "                                              criterion='gini', max_depth=None,\n",
       "                                              max_features='auto',\n",
       "                                              max_leaf_nodes=None,\n",
       "                                              min_impurity_decrease=0.0,\n",
       "                                              min_impurity_split=None,\n",
       "                                              min_samples_leaf=1,\n",
       "                                              min_samples_split=2,\n",
       "                                              min_weight_fraction_leaf=0.0,\n",
       "                                              n_estimators='warn', n_jobs=None,\n",
       "                                              oob_score=False,\n",
       "                                              random_state=None, verbose=0,\n",
       "                                              warm_start=False),\n",
       "             iid='warn', n_jobs=-1,\n",
       "             param_grid={'criterion': ['gini', 'entropy'],\n",
       "                         'max_features': array([ 1,  2,  3,  4,  5,  6,  7,  8,  9, 10])},\n",
       "             pre_dispatch='2*n_jobs', refit=True, return_train_score=False,\n",
       "             scoring=None, verbose=0)"
      ]
     },
     "execution_count": 33,
     "metadata": {},
     "output_type": "execute_result"
    }
   ],
   "source": [
    "clf = RandomForestClassifier()\n",
    "params = {'max_features': np.arange(1, 11),'criterion' :['gini', 'entropy']}\n",
    "best_model = GridSearchCV(clf, params,n_jobs=-1)\n",
    "best_model.fit(x_train,y_train)"
   ]
  },
  {
   "cell_type": "code",
   "execution_count": 34,
   "metadata": {},
   "outputs": [
    {
     "data": {
      "text/plain": [
       "{'criterion': 'entropy', 'max_features': 10}"
      ]
     },
     "execution_count": 34,
     "metadata": {},
     "output_type": "execute_result"
    }
   ],
   "source": [
    "best_model.best_params_"
   ]
  },
  {
   "cell_type": "code",
   "execution_count": 35,
   "metadata": {},
   "outputs": [
    {
     "name": "stdout",
     "output_type": "stream",
     "text": [
      "0.9545\n"
     ]
    }
   ],
   "source": [
    "rf = RandomForestClassifier(criterion='entropy',max_features=8,n_estimators=1000)\n",
    "rf.fit(x_train,y_train)\n",
    "print(rf.score(x_test,y_test))"
   ]
  },
  {
   "cell_type": "code",
   "execution_count": 36,
   "metadata": {},
   "outputs": [],
   "source": [
    "x = dataset.drop(['Severity','Accident_ID'],axis=1)\n",
    "x['Total_Problems'] = dataset['Violations'] + dataset['Total_Safety_Complaints']"
   ]
  },
  {
   "cell_type": "code",
   "execution_count": 37,
   "metadata": {},
   "outputs": [
    {
     "data": {
      "text/plain": [
       "RandomForestClassifier(bootstrap=True, class_weight=None, criterion='entropy',\n",
       "                       max_depth=None, max_features=8, max_leaf_nodes=None,\n",
       "                       min_impurity_decrease=0.0, min_impurity_split=None,\n",
       "                       min_samples_leaf=1, min_samples_split=2,\n",
       "                       min_weight_fraction_leaf=0.0, n_estimators=1000,\n",
       "                       n_jobs=None, oob_score=False, random_state=None,\n",
       "                       verbose=0, warm_start=False)"
      ]
     },
     "execution_count": 37,
     "metadata": {},
     "output_type": "execute_result"
    }
   ],
   "source": [
    "rf.fit(x,y)"
   ]
  },
  {
   "cell_type": "markdown",
   "metadata": {},
   "source": [
    "### Applying xgboost and finalizing the model"
   ]
  },
  {
   "cell_type": "code",
   "execution_count": 38,
   "metadata": {},
   "outputs": [
    {
     "data": {
      "text/plain": [
       "XGBClassifier(base_score=0.5, booster='gbtree', colsample_bylevel=1,\n",
       "              colsample_bynode=1, colsample_bytree=1, gamma=0, gpu_id=-1,\n",
       "              importance_type='gain', interaction_constraints='',\n",
       "              learning_rate=0.300000012, max_delta_step=0, max_depth=6,\n",
       "              min_child_weight=1, missing=nan, monotone_constraints='()',\n",
       "              n_estimators=100, n_jobs=0, num_parallel_tree=1,\n",
       "              objective='multi:softprob', random_state=0, reg_alpha=0,\n",
       "              reg_lambda=1, scale_pos_weight=None, subsample=1,\n",
       "              tree_method='exact', validate_parameters=1, verbosity=None)"
      ]
     },
     "execution_count": 38,
     "metadata": {},
     "output_type": "execute_result"
    }
   ],
   "source": [
    "xgb = XGBClassifier()\n",
    "xgb.fit(x,y)"
   ]
  },
  {
   "cell_type": "markdown",
   "metadata": {},
   "source": [
    "### Testing the model created"
   ]
  },
  {
   "cell_type": "code",
   "execution_count": 43,
   "metadata": {},
   "outputs": [
    {
     "data": {
      "text/html": [
       "<div>\n",
       "<style scoped>\n",
       "    .dataframe tbody tr th:only-of-type {\n",
       "        vertical-align: middle;\n",
       "    }\n",
       "\n",
       "    .dataframe tbody tr th {\n",
       "        vertical-align: top;\n",
       "    }\n",
       "\n",
       "    .dataframe thead th {\n",
       "        text-align: right;\n",
       "    }\n",
       "</style>\n",
       "<table border=\"1\" class=\"dataframe\">\n",
       "  <thead>\n",
       "    <tr style=\"text-align: right;\">\n",
       "      <th></th>\n",
       "      <th>Safety_Score</th>\n",
       "      <th>Days_Since_Inspection</th>\n",
       "      <th>Total_Safety_Complaints</th>\n",
       "      <th>Control_Metric</th>\n",
       "      <th>Turbulence_In_gforces</th>\n",
       "      <th>Cabin_Temperature</th>\n",
       "      <th>Accident_Type_Code</th>\n",
       "      <th>Max_Elevation</th>\n",
       "      <th>Violations</th>\n",
       "      <th>Adverse_Weather_Metric</th>\n",
       "      <th>Total_Problems</th>\n",
       "    </tr>\n",
       "  </thead>\n",
       "  <tbody>\n",
       "    <tr>\n",
       "      <td>0</td>\n",
       "      <td>49.223744</td>\n",
       "      <td>14</td>\n",
       "      <td>22</td>\n",
       "      <td>71.285324</td>\n",
       "      <td>0.272118</td>\n",
       "      <td>78.04</td>\n",
       "      <td>2</td>\n",
       "      <td>31335.47682</td>\n",
       "      <td>3</td>\n",
       "      <td>0.424352</td>\n",
       "      <td>25</td>\n",
       "    </tr>\n",
       "    <tr>\n",
       "      <td>1</td>\n",
       "      <td>62.465753</td>\n",
       "      <td>10</td>\n",
       "      <td>27</td>\n",
       "      <td>72.288058</td>\n",
       "      <td>0.423939</td>\n",
       "      <td>84.54</td>\n",
       "      <td>2</td>\n",
       "      <td>26024.71106</td>\n",
       "      <td>2</td>\n",
       "      <td>0.352350</td>\n",
       "      <td>29</td>\n",
       "    </tr>\n",
       "    <tr>\n",
       "      <td>2</td>\n",
       "      <td>63.059361</td>\n",
       "      <td>13</td>\n",
       "      <td>16</td>\n",
       "      <td>66.362808</td>\n",
       "      <td>0.322604</td>\n",
       "      <td>78.86</td>\n",
       "      <td>7</td>\n",
       "      <td>39269.05393</td>\n",
       "      <td>3</td>\n",
       "      <td>0.003364</td>\n",
       "      <td>19</td>\n",
       "    </tr>\n",
       "    <tr>\n",
       "      <td>3</td>\n",
       "      <td>48.082192</td>\n",
       "      <td>11</td>\n",
       "      <td>9</td>\n",
       "      <td>74.703737</td>\n",
       "      <td>0.337029</td>\n",
       "      <td>81.79</td>\n",
       "      <td>3</td>\n",
       "      <td>42771.49920</td>\n",
       "      <td>1</td>\n",
       "      <td>0.211728</td>\n",
       "      <td>10</td>\n",
       "    </tr>\n",
       "    <tr>\n",
       "      <td>4</td>\n",
       "      <td>26.484018</td>\n",
       "      <td>13</td>\n",
       "      <td>25</td>\n",
       "      <td>47.948952</td>\n",
       "      <td>0.541140</td>\n",
       "      <td>77.16</td>\n",
       "      <td>3</td>\n",
       "      <td>35509.22852</td>\n",
       "      <td>2</td>\n",
       "      <td>0.176883</td>\n",
       "      <td>27</td>\n",
       "    </tr>\n",
       "    <tr>\n",
       "      <td>...</td>\n",
       "      <td>...</td>\n",
       "      <td>...</td>\n",
       "      <td>...</td>\n",
       "      <td>...</td>\n",
       "      <td>...</td>\n",
       "      <td>...</td>\n",
       "      <td>...</td>\n",
       "      <td>...</td>\n",
       "      <td>...</td>\n",
       "      <td>...</td>\n",
       "      <td>...</td>\n",
       "    </tr>\n",
       "    <tr>\n",
       "      <td>9995</td>\n",
       "      <td>56.118721</td>\n",
       "      <td>8</td>\n",
       "      <td>1</td>\n",
       "      <td>63.445761</td>\n",
       "      <td>0.482359</td>\n",
       "      <td>78.64</td>\n",
       "      <td>5</td>\n",
       "      <td>38537.36341</td>\n",
       "      <td>2</td>\n",
       "      <td>0.026150</td>\n",
       "      <td>3</td>\n",
       "    </tr>\n",
       "    <tr>\n",
       "      <td>9996</td>\n",
       "      <td>40.365297</td>\n",
       "      <td>10</td>\n",
       "      <td>7</td>\n",
       "      <td>62.169553</td>\n",
       "      <td>0.421775</td>\n",
       "      <td>79.77</td>\n",
       "      <td>4</td>\n",
       "      <td>40846.91690</td>\n",
       "      <td>2</td>\n",
       "      <td>0.074898</td>\n",
       "      <td>9</td>\n",
       "    </tr>\n",
       "    <tr>\n",
       "      <td>9997</td>\n",
       "      <td>27.853881</td>\n",
       "      <td>17</td>\n",
       "      <td>1</td>\n",
       "      <td>69.598906</td>\n",
       "      <td>0.318277</td>\n",
       "      <td>80.37</td>\n",
       "      <td>3</td>\n",
       "      <td>33771.99630</td>\n",
       "      <td>3</td>\n",
       "      <td>0.168173</td>\n",
       "      <td>4</td>\n",
       "    </tr>\n",
       "    <tr>\n",
       "      <td>9998</td>\n",
       "      <td>56.210046</td>\n",
       "      <td>8</td>\n",
       "      <td>0</td>\n",
       "      <td>39.835916</td>\n",
       "      <td>0.598118</td>\n",
       "      <td>76.92</td>\n",
       "      <td>5</td>\n",
       "      <td>39820.41925</td>\n",
       "      <td>2</td>\n",
       "      <td>0.026381</td>\n",
       "      <td>2</td>\n",
       "    </tr>\n",
       "    <tr>\n",
       "      <td>9999</td>\n",
       "      <td>50.000000</td>\n",
       "      <td>13</td>\n",
       "      <td>3</td>\n",
       "      <td>45.487694</td>\n",
       "      <td>0.382467</td>\n",
       "      <td>77.46</td>\n",
       "      <td>5</td>\n",
       "      <td>26005.32299</td>\n",
       "      <td>2</td>\n",
       "      <td>0.017036</td>\n",
       "      <td>5</td>\n",
       "    </tr>\n",
       "  </tbody>\n",
       "</table>\n",
       "<p>10000 rows × 11 columns</p>\n",
       "</div>"
      ],
      "text/plain": [
       "      Safety_Score  Days_Since_Inspection  Total_Safety_Complaints  \\\n",
       "0        49.223744                     14                       22   \n",
       "1        62.465753                     10                       27   \n",
       "2        63.059361                     13                       16   \n",
       "3        48.082192                     11                        9   \n",
       "4        26.484018                     13                       25   \n",
       "...            ...                    ...                      ...   \n",
       "9995     56.118721                      8                        1   \n",
       "9996     40.365297                     10                        7   \n",
       "9997     27.853881                     17                        1   \n",
       "9998     56.210046                      8                        0   \n",
       "9999     50.000000                     13                        3   \n",
       "\n",
       "      Control_Metric  Turbulence_In_gforces  Cabin_Temperature  \\\n",
       "0          71.285324               0.272118              78.04   \n",
       "1          72.288058               0.423939              84.54   \n",
       "2          66.362808               0.322604              78.86   \n",
       "3          74.703737               0.337029              81.79   \n",
       "4          47.948952               0.541140              77.16   \n",
       "...              ...                    ...                ...   \n",
       "9995       63.445761               0.482359              78.64   \n",
       "9996       62.169553               0.421775              79.77   \n",
       "9997       69.598906               0.318277              80.37   \n",
       "9998       39.835916               0.598118              76.92   \n",
       "9999       45.487694               0.382467              77.46   \n",
       "\n",
       "      Accident_Type_Code  Max_Elevation  Violations  Adverse_Weather_Metric  \\\n",
       "0                      2    31335.47682           3                0.424352   \n",
       "1                      2    26024.71106           2                0.352350   \n",
       "2                      7    39269.05393           3                0.003364   \n",
       "3                      3    42771.49920           1                0.211728   \n",
       "4                      3    35509.22852           2                0.176883   \n",
       "...                  ...            ...         ...                     ...   \n",
       "9995                   5    38537.36341           2                0.026150   \n",
       "9996                   4    40846.91690           2                0.074898   \n",
       "9997                   3    33771.99630           3                0.168173   \n",
       "9998                   5    39820.41925           2                0.026381   \n",
       "9999                   5    26005.32299           2                0.017036   \n",
       "\n",
       "      Total_Problems  \n",
       "0                 25  \n",
       "1                 29  \n",
       "2                 19  \n",
       "3                 10  \n",
       "4                 27  \n",
       "...              ...  \n",
       "9995               3  \n",
       "9996               9  \n",
       "9997               4  \n",
       "9998               2  \n",
       "9999               5  \n",
       "\n",
       "[10000 rows x 11 columns]"
      ]
     },
     "execution_count": 43,
     "metadata": {},
     "output_type": "execute_result"
    }
   ],
   "source": [
    "#Creating Test dataset \n",
    "test = dataset.drop(['Severity'],axis=1)\n",
    "test_data = dataset.drop(['Accident_ID','Severity'],axis=1)\n",
    "test_data['Total_Problems'] = test_data['Violations'] + test_data['Total_Safety_Complaints']\n",
    "test_data"
   ]
  },
  {
   "cell_type": "markdown",
   "metadata": {},
   "source": [
    "### Testing random forest classifier"
   ]
  },
  {
   "cell_type": "code",
   "execution_count": 44,
   "metadata": {},
   "outputs": [
    {
     "data": {
      "text/plain": [
       "array(['Minor_Damage_And_Injuries', 'Minor_Damage_And_Injuries',\n",
       "       'Significant_Damage_And_Fatalities', ...,\n",
       "       'Significant_Damage_And_Serious_Injuries',\n",
       "       'Minor_Damage_And_Injuries', 'Highly_Fatal_And_Damaging'],\n",
       "      dtype=object)"
      ]
     },
     "execution_count": 44,
     "metadata": {},
     "output_type": "execute_result"
    }
   ],
   "source": [
    "y_pred = rf.predict(test_data)\n",
    "y_pred"
   ]
  },
  {
   "cell_type": "code",
   "execution_count": 45,
   "metadata": {},
   "outputs": [
    {
     "data": {
      "text/html": [
       "<div>\n",
       "<style scoped>\n",
       "    .dataframe tbody tr th:only-of-type {\n",
       "        vertical-align: middle;\n",
       "    }\n",
       "\n",
       "    .dataframe tbody tr th {\n",
       "        vertical-align: top;\n",
       "    }\n",
       "\n",
       "    .dataframe thead th {\n",
       "        text-align: right;\n",
       "    }\n",
       "</style>\n",
       "<table border=\"1\" class=\"dataframe\">\n",
       "  <thead>\n",
       "    <tr style=\"text-align: right;\">\n",
       "      <th></th>\n",
       "      <th>Accident_ID</th>\n",
       "      <th>Severity</th>\n",
       "    </tr>\n",
       "  </thead>\n",
       "  <tbody>\n",
       "    <tr>\n",
       "      <td>0</td>\n",
       "      <td>7570</td>\n",
       "      <td>Minor_Damage_And_Injuries</td>\n",
       "    </tr>\n",
       "    <tr>\n",
       "      <td>1</td>\n",
       "      <td>12128</td>\n",
       "      <td>Minor_Damage_And_Injuries</td>\n",
       "    </tr>\n",
       "    <tr>\n",
       "      <td>2</td>\n",
       "      <td>2181</td>\n",
       "      <td>Significant_Damage_And_Fatalities</td>\n",
       "    </tr>\n",
       "    <tr>\n",
       "      <td>3</td>\n",
       "      <td>5946</td>\n",
       "      <td>Significant_Damage_And_Serious_Injuries</td>\n",
       "    </tr>\n",
       "    <tr>\n",
       "      <td>4</td>\n",
       "      <td>9054</td>\n",
       "      <td>Significant_Damage_And_Fatalities</td>\n",
       "    </tr>\n",
       "    <tr>\n",
       "      <td>...</td>\n",
       "      <td>...</td>\n",
       "      <td>...</td>\n",
       "    </tr>\n",
       "    <tr>\n",
       "      <td>9995</td>\n",
       "      <td>11493</td>\n",
       "      <td>Significant_Damage_And_Serious_Injuries</td>\n",
       "    </tr>\n",
       "    <tr>\n",
       "      <td>9996</td>\n",
       "      <td>305</td>\n",
       "      <td>Highly_Fatal_And_Damaging</td>\n",
       "    </tr>\n",
       "    <tr>\n",
       "      <td>9997</td>\n",
       "      <td>612</td>\n",
       "      <td>Significant_Damage_And_Serious_Injuries</td>\n",
       "    </tr>\n",
       "    <tr>\n",
       "      <td>9998</td>\n",
       "      <td>4963</td>\n",
       "      <td>Minor_Damage_And_Injuries</td>\n",
       "    </tr>\n",
       "    <tr>\n",
       "      <td>9999</td>\n",
       "      <td>9387</td>\n",
       "      <td>Highly_Fatal_And_Damaging</td>\n",
       "    </tr>\n",
       "  </tbody>\n",
       "</table>\n",
       "<p>10000 rows × 2 columns</p>\n",
       "</div>"
      ],
      "text/plain": [
       "      Accident_ID                                 Severity\n",
       "0            7570                Minor_Damage_And_Injuries\n",
       "1           12128                Minor_Damage_And_Injuries\n",
       "2            2181        Significant_Damage_And_Fatalities\n",
       "3            5946  Significant_Damage_And_Serious_Injuries\n",
       "4            9054        Significant_Damage_And_Fatalities\n",
       "...           ...                                      ...\n",
       "9995        11493  Significant_Damage_And_Serious_Injuries\n",
       "9996          305                Highly_Fatal_And_Damaging\n",
       "9997          612  Significant_Damage_And_Serious_Injuries\n",
       "9998         4963                Minor_Damage_And_Injuries\n",
       "9999         9387                Highly_Fatal_And_Damaging\n",
       "\n",
       "[10000 rows x 2 columns]"
      ]
     },
     "execution_count": 45,
     "metadata": {},
     "output_type": "execute_result"
    }
   ],
   "source": [
    "pred = pd.DataFrame()\n",
    "pred['Accident_ID'] = test['Accident_ID']\n",
    "pred['Severity'] = y_pred\n",
    "\n",
    "###Printing predictions\n",
    "pred"
   ]
  },
  {
   "cell_type": "markdown",
   "metadata": {},
   "source": [
    "### Testing XGBClassifier"
   ]
  },
  {
   "cell_type": "code",
   "execution_count": 46,
   "metadata": {},
   "outputs": [
    {
     "data": {
      "text/plain": [
       "array(['Minor_Damage_And_Injuries', 'Minor_Damage_And_Injuries',\n",
       "       'Significant_Damage_And_Fatalities', ...,\n",
       "       'Significant_Damage_And_Serious_Injuries',\n",
       "       'Minor_Damage_And_Injuries', 'Highly_Fatal_And_Damaging'],\n",
       "      dtype=object)"
      ]
     },
     "execution_count": 46,
     "metadata": {},
     "output_type": "execute_result"
    }
   ],
   "source": [
    "y_pred = xgb.predict(test_data)\n",
    "y_pred"
   ]
  },
  {
   "cell_type": "code",
   "execution_count": 47,
   "metadata": {},
   "outputs": [
    {
     "data": {
      "text/html": [
       "<div>\n",
       "<style scoped>\n",
       "    .dataframe tbody tr th:only-of-type {\n",
       "        vertical-align: middle;\n",
       "    }\n",
       "\n",
       "    .dataframe tbody tr th {\n",
       "        vertical-align: top;\n",
       "    }\n",
       "\n",
       "    .dataframe thead th {\n",
       "        text-align: right;\n",
       "    }\n",
       "</style>\n",
       "<table border=\"1\" class=\"dataframe\">\n",
       "  <thead>\n",
       "    <tr style=\"text-align: right;\">\n",
       "      <th></th>\n",
       "      <th>Accident_ID</th>\n",
       "      <th>Severity</th>\n",
       "    </tr>\n",
       "  </thead>\n",
       "  <tbody>\n",
       "    <tr>\n",
       "      <td>0</td>\n",
       "      <td>7570</td>\n",
       "      <td>Minor_Damage_And_Injuries</td>\n",
       "    </tr>\n",
       "    <tr>\n",
       "      <td>1</td>\n",
       "      <td>12128</td>\n",
       "      <td>Minor_Damage_And_Injuries</td>\n",
       "    </tr>\n",
       "    <tr>\n",
       "      <td>2</td>\n",
       "      <td>2181</td>\n",
       "      <td>Significant_Damage_And_Fatalities</td>\n",
       "    </tr>\n",
       "    <tr>\n",
       "      <td>3</td>\n",
       "      <td>5946</td>\n",
       "      <td>Significant_Damage_And_Serious_Injuries</td>\n",
       "    </tr>\n",
       "    <tr>\n",
       "      <td>4</td>\n",
       "      <td>9054</td>\n",
       "      <td>Significant_Damage_And_Fatalities</td>\n",
       "    </tr>\n",
       "    <tr>\n",
       "      <td>...</td>\n",
       "      <td>...</td>\n",
       "      <td>...</td>\n",
       "    </tr>\n",
       "    <tr>\n",
       "      <td>9995</td>\n",
       "      <td>11493</td>\n",
       "      <td>Significant_Damage_And_Serious_Injuries</td>\n",
       "    </tr>\n",
       "    <tr>\n",
       "      <td>9996</td>\n",
       "      <td>305</td>\n",
       "      <td>Highly_Fatal_And_Damaging</td>\n",
       "    </tr>\n",
       "    <tr>\n",
       "      <td>9997</td>\n",
       "      <td>612</td>\n",
       "      <td>Significant_Damage_And_Serious_Injuries</td>\n",
       "    </tr>\n",
       "    <tr>\n",
       "      <td>9998</td>\n",
       "      <td>4963</td>\n",
       "      <td>Minor_Damage_And_Injuries</td>\n",
       "    </tr>\n",
       "    <tr>\n",
       "      <td>9999</td>\n",
       "      <td>9387</td>\n",
       "      <td>Highly_Fatal_And_Damaging</td>\n",
       "    </tr>\n",
       "  </tbody>\n",
       "</table>\n",
       "<p>10000 rows × 2 columns</p>\n",
       "</div>"
      ],
      "text/plain": [
       "      Accident_ID                                 Severity\n",
       "0            7570                Minor_Damage_And_Injuries\n",
       "1           12128                Minor_Damage_And_Injuries\n",
       "2            2181        Significant_Damage_And_Fatalities\n",
       "3            5946  Significant_Damage_And_Serious_Injuries\n",
       "4            9054        Significant_Damage_And_Fatalities\n",
       "...           ...                                      ...\n",
       "9995        11493  Significant_Damage_And_Serious_Injuries\n",
       "9996          305                Highly_Fatal_And_Damaging\n",
       "9997          612  Significant_Damage_And_Serious_Injuries\n",
       "9998         4963                Minor_Damage_And_Injuries\n",
       "9999         9387                Highly_Fatal_And_Damaging\n",
       "\n",
       "[10000 rows x 2 columns]"
      ]
     },
     "execution_count": 47,
     "metadata": {},
     "output_type": "execute_result"
    }
   ],
   "source": [
    "pred = pd.DataFrame()\n",
    "pred['Accident_ID'] = test['Accident_ID']\n",
    "pred['Severity'] = y_pred\n",
    "\n",
    "###Printing predictions\n",
    "pred"
   ]
  }
 ],
 "metadata": {
  "kernelspec": {
   "display_name": "Python 3",
   "language": "python",
   "name": "python3"
  },
  "language_info": {
   "codemirror_mode": {
    "name": "ipython",
    "version": 3
   },
   "file_extension": ".py",
   "mimetype": "text/x-python",
   "name": "python",
   "nbconvert_exporter": "python",
   "pygments_lexer": "ipython3",
   "version": "3.7.4"
  }
 },
 "nbformat": 4,
 "nbformat_minor": 2
}
